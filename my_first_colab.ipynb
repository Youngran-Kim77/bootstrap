{
  "nbformat": 4,
  "nbformat_minor": 0,
  "metadata": {
    "colab": {
      "provenance": [],
      "authorship_tag": "ABX9TyNTB8NJ46ly8b5BAFIg5HRZ",
      "include_colab_link": true
    },
    "kernelspec": {
      "name": "python3",
      "display_name": "Python 3"
    },
    "language_info": {
      "name": "python"
    }
  },
  "cells": [
    {
      "cell_type": "markdown",
      "metadata": {
        "id": "view-in-github",
        "colab_type": "text"
      },
      "source": [
        "<a href=\"https://colab.research.google.com/github/Youngran-Kim77/bootstrap/blob/main/my_first_colab.ipynb\" target=\"_parent\"><img src=\"https://colab.research.google.com/assets/colab-badge.svg\" alt=\"Open In Colab\"/></a>"
      ]
    },
    {
      "cell_type": "code",
      "execution_count": 1,
      "metadata": {
        "id": "LDhMx2FDJm_X"
      },
      "outputs": [],
      "source": [
        "import torch"
      ]
    },
    {
      "cell_type": "code",
      "source": [
        "x = torch.rand(5, 3)\n",
        "print(x)\n",
        "\n",
        "print(torch.__version__)"
      ],
      "metadata": {
        "colab": {
          "base_uri": "https://localhost:8080/"
        },
        "id": "vMjyZGNVJx2R",
        "outputId": "dca66daa-902e-453d-8aec-4090910184ce"
      },
      "execution_count": 2,
      "outputs": [
        {
          "output_type": "stream",
          "name": "stdout",
          "text": [
            "tensor([[0.3440, 0.8625, 0.1009],\n",
            "        [0.7693, 0.0199, 0.0308],\n",
            "        [0.7369, 0.6192, 0.9184],\n",
            "        [0.9905, 0.2282, 0.0759],\n",
            "        [0.9395, 0.6832, 0.5414]])\n",
            "2.0.1+cu118\n"
          ]
        }
      ]
    },
    {
      "cell_type": "code",
      "source": [
        "h =1"
      ],
      "metadata": {
        "id": "MyvpyI1nKEx5"
      },
      "execution_count": 3,
      "outputs": []
    },
    {
      "cell_type": "markdown",
      "source": [
        "**bold text**"
      ],
      "metadata": {
        "id": "v1Jdw7oUKPSp"
      }
    },
    {
      "cell_type": "markdown",
      "source": [],
      "metadata": {
        "id": "I2QkA4RFKJ5M"
      }
    },
    {
      "cell_type": "markdown",
      "source": [
        "hoghod"
      ],
      "metadata": {
        "id": "xQ-_xKWFKHp7"
      }
    }
  ]
}